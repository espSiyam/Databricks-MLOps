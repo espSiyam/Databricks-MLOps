{
 "cells": [
  {
   "cell_type": "code",
   "execution_count": null,
   "id": "74058049",
   "metadata": {},
   "outputs": [],
   "source": [
    "telco_path = \"sdd_dev.sohag_test.telco_customer_churn\"\n",
    "telco_df = spark.read.table(telco_path)\n",
    "display(telco_df)"
   ]
  }
 ],
 "metadata": {
  "language_info": {
   "name": "python"
  }
 },
 "nbformat": 4,
 "nbformat_minor": 5
}
